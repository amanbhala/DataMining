{
  "nbformat": 4,
  "nbformat_minor": 0,
  "metadata": {
    "colab": {
      "provenance": []
    },
    "kernelspec": {
      "name": "python3",
      "display_name": "Python 3"
    },
    "language_info": {
      "name": "python"
    }
  },
  "cells": [
    {
      "cell_type": "markdown",
      "source": [
        "**Importing Libraries**"
      ],
      "metadata": {
        "id": "FQddrT4iE_xb"
      }
    },
    {
      "cell_type": "code",
      "execution_count": 231,
      "metadata": {
        "id": "6TF1mvQxG79W"
      },
      "outputs": [],
      "source": [
        "import pandas as pd\n",
        "import numpy as np"
      ]
    },
    {
      "cell_type": "markdown",
      "source": [
        "**Understanding Data**"
      ],
      "metadata": {
        "id": "RBeP_nGDFHGo"
      }
    },
    {
      "cell_type": "code",
      "source": [
        "df = pd.read_csv('24_train_1.csv')"
      ],
      "metadata": {
        "id": "qWgu2QAlHMvK"
      },
      "execution_count": 232,
      "outputs": []
    },
    {
      "cell_type": "code",
      "source": [
        "df.head()"
      ],
      "metadata": {
        "colab": {
          "base_uri": "https://localhost:8080/",
          "height": 206
        },
        "id": "Eshwcma-H304",
        "outputId": "e8158f34-f96c-40e0-866f-05c61fa2d763"
      },
      "execution_count": 233,
      "outputs": [
        {
          "output_type": "execute_result",
          "data": {
            "text/plain": [
              "   ArticleId                                               Text  Category\n",
              "0       1429  sfa awaits report over mikoliunas the scottish...     sport\n",
              "1       1896  parmalat to return to stockmarket parmalat  th...  business\n",
              "2       1633  edu blasts arsenal arsenal s brazilian midfiel...     sport\n",
              "3       2178  henman decides to quit davis cup tim henman ha...     sport\n",
              "4        194  french suitor holds lse meeting european stock...  business"
            ],
            "text/html": [
              "\n",
              "  <div id=\"df-75f13969-73b7-4d0d-a22f-89875101abf7\" class=\"colab-df-container\">\n",
              "    <div>\n",
              "<style scoped>\n",
              "    .dataframe tbody tr th:only-of-type {\n",
              "        vertical-align: middle;\n",
              "    }\n",
              "\n",
              "    .dataframe tbody tr th {\n",
              "        vertical-align: top;\n",
              "    }\n",
              "\n",
              "    .dataframe thead th {\n",
              "        text-align: right;\n",
              "    }\n",
              "</style>\n",
              "<table border=\"1\" class=\"dataframe\">\n",
              "  <thead>\n",
              "    <tr style=\"text-align: right;\">\n",
              "      <th></th>\n",
              "      <th>ArticleId</th>\n",
              "      <th>Text</th>\n",
              "      <th>Category</th>\n",
              "    </tr>\n",
              "  </thead>\n",
              "  <tbody>\n",
              "    <tr>\n",
              "      <th>0</th>\n",
              "      <td>1429</td>\n",
              "      <td>sfa awaits report over mikoliunas the scottish...</td>\n",
              "      <td>sport</td>\n",
              "    </tr>\n",
              "    <tr>\n",
              "      <th>1</th>\n",
              "      <td>1896</td>\n",
              "      <td>parmalat to return to stockmarket parmalat  th...</td>\n",
              "      <td>business</td>\n",
              "    </tr>\n",
              "    <tr>\n",
              "      <th>2</th>\n",
              "      <td>1633</td>\n",
              "      <td>edu blasts arsenal arsenal s brazilian midfiel...</td>\n",
              "      <td>sport</td>\n",
              "    </tr>\n",
              "    <tr>\n",
              "      <th>3</th>\n",
              "      <td>2178</td>\n",
              "      <td>henman decides to quit davis cup tim henman ha...</td>\n",
              "      <td>sport</td>\n",
              "    </tr>\n",
              "    <tr>\n",
              "      <th>4</th>\n",
              "      <td>194</td>\n",
              "      <td>french suitor holds lse meeting european stock...</td>\n",
              "      <td>business</td>\n",
              "    </tr>\n",
              "  </tbody>\n",
              "</table>\n",
              "</div>\n",
              "    <div class=\"colab-df-buttons\">\n",
              "\n",
              "  <div class=\"colab-df-container\">\n",
              "    <button class=\"colab-df-convert\" onclick=\"convertToInteractive('df-75f13969-73b7-4d0d-a22f-89875101abf7')\"\n",
              "            title=\"Convert this dataframe to an interactive table.\"\n",
              "            style=\"display:none;\">\n",
              "\n",
              "  <svg xmlns=\"http://www.w3.org/2000/svg\" height=\"24px\" viewBox=\"0 -960 960 960\">\n",
              "    <path d=\"M120-120v-720h720v720H120Zm60-500h600v-160H180v160Zm220 220h160v-160H400v160Zm0 220h160v-160H400v160ZM180-400h160v-160H180v160Zm440 0h160v-160H620v160ZM180-180h160v-160H180v160Zm440 0h160v-160H620v160Z\"/>\n",
              "  </svg>\n",
              "    </button>\n",
              "\n",
              "  <style>\n",
              "    .colab-df-container {\n",
              "      display:flex;\n",
              "      gap: 12px;\n",
              "    }\n",
              "\n",
              "    .colab-df-convert {\n",
              "      background-color: #E8F0FE;\n",
              "      border: none;\n",
              "      border-radius: 50%;\n",
              "      cursor: pointer;\n",
              "      display: none;\n",
              "      fill: #1967D2;\n",
              "      height: 32px;\n",
              "      padding: 0 0 0 0;\n",
              "      width: 32px;\n",
              "    }\n",
              "\n",
              "    .colab-df-convert:hover {\n",
              "      background-color: #E2EBFA;\n",
              "      box-shadow: 0px 1px 2px rgba(60, 64, 67, 0.3), 0px 1px 3px 1px rgba(60, 64, 67, 0.15);\n",
              "      fill: #174EA6;\n",
              "    }\n",
              "\n",
              "    .colab-df-buttons div {\n",
              "      margin-bottom: 4px;\n",
              "    }\n",
              "\n",
              "    [theme=dark] .colab-df-convert {\n",
              "      background-color: #3B4455;\n",
              "      fill: #D2E3FC;\n",
              "    }\n",
              "\n",
              "    [theme=dark] .colab-df-convert:hover {\n",
              "      background-color: #434B5C;\n",
              "      box-shadow: 0px 1px 3px 1px rgba(0, 0, 0, 0.15);\n",
              "      filter: drop-shadow(0px 1px 2px rgba(0, 0, 0, 0.3));\n",
              "      fill: #FFFFFF;\n",
              "    }\n",
              "  </style>\n",
              "\n",
              "    <script>\n",
              "      const buttonEl =\n",
              "        document.querySelector('#df-75f13969-73b7-4d0d-a22f-89875101abf7 button.colab-df-convert');\n",
              "      buttonEl.style.display =\n",
              "        google.colab.kernel.accessAllowed ? 'block' : 'none';\n",
              "\n",
              "      async function convertToInteractive(key) {\n",
              "        const element = document.querySelector('#df-75f13969-73b7-4d0d-a22f-89875101abf7');\n",
              "        const dataTable =\n",
              "          await google.colab.kernel.invokeFunction('convertToInteractive',\n",
              "                                                    [key], {});\n",
              "        if (!dataTable) return;\n",
              "\n",
              "        const docLinkHtml = 'Like what you see? Visit the ' +\n",
              "          '<a target=\"_blank\" href=https://colab.research.google.com/notebooks/data_table.ipynb>data table notebook</a>'\n",
              "          + ' to learn more about interactive tables.';\n",
              "        element.innerHTML = '';\n",
              "        dataTable['output_type'] = 'display_data';\n",
              "        await google.colab.output.renderOutput(dataTable, element);\n",
              "        const docLink = document.createElement('div');\n",
              "        docLink.innerHTML = docLinkHtml;\n",
              "        element.appendChild(docLink);\n",
              "      }\n",
              "    </script>\n",
              "  </div>\n",
              "\n",
              "\n",
              "<div id=\"df-c728f17c-b049-4d66-86de-23e9a6ede73d\">\n",
              "  <button class=\"colab-df-quickchart\" onclick=\"quickchart('df-c728f17c-b049-4d66-86de-23e9a6ede73d')\"\n",
              "            title=\"Suggest charts\"\n",
              "            style=\"display:none;\">\n",
              "\n",
              "<svg xmlns=\"http://www.w3.org/2000/svg\" height=\"24px\"viewBox=\"0 0 24 24\"\n",
              "     width=\"24px\">\n",
              "    <g>\n",
              "        <path d=\"M19 3H5c-1.1 0-2 .9-2 2v14c0 1.1.9 2 2 2h14c1.1 0 2-.9 2-2V5c0-1.1-.9-2-2-2zM9 17H7v-7h2v7zm4 0h-2V7h2v10zm4 0h-2v-4h2v4z\"/>\n",
              "    </g>\n",
              "</svg>\n",
              "  </button>\n",
              "\n",
              "<style>\n",
              "  .colab-df-quickchart {\n",
              "      --bg-color: #E8F0FE;\n",
              "      --fill-color: #1967D2;\n",
              "      --hover-bg-color: #E2EBFA;\n",
              "      --hover-fill-color: #174EA6;\n",
              "      --disabled-fill-color: #AAA;\n",
              "      --disabled-bg-color: #DDD;\n",
              "  }\n",
              "\n",
              "  [theme=dark] .colab-df-quickchart {\n",
              "      --bg-color: #3B4455;\n",
              "      --fill-color: #D2E3FC;\n",
              "      --hover-bg-color: #434B5C;\n",
              "      --hover-fill-color: #FFFFFF;\n",
              "      --disabled-bg-color: #3B4455;\n",
              "      --disabled-fill-color: #666;\n",
              "  }\n",
              "\n",
              "  .colab-df-quickchart {\n",
              "    background-color: var(--bg-color);\n",
              "    border: none;\n",
              "    border-radius: 50%;\n",
              "    cursor: pointer;\n",
              "    display: none;\n",
              "    fill: var(--fill-color);\n",
              "    height: 32px;\n",
              "    padding: 0;\n",
              "    width: 32px;\n",
              "  }\n",
              "\n",
              "  .colab-df-quickchart:hover {\n",
              "    background-color: var(--hover-bg-color);\n",
              "    box-shadow: 0 1px 2px rgba(60, 64, 67, 0.3), 0 1px 3px 1px rgba(60, 64, 67, 0.15);\n",
              "    fill: var(--button-hover-fill-color);\n",
              "  }\n",
              "\n",
              "  .colab-df-quickchart-complete:disabled,\n",
              "  .colab-df-quickchart-complete:disabled:hover {\n",
              "    background-color: var(--disabled-bg-color);\n",
              "    fill: var(--disabled-fill-color);\n",
              "    box-shadow: none;\n",
              "  }\n",
              "\n",
              "  .colab-df-spinner {\n",
              "    border: 2px solid var(--fill-color);\n",
              "    border-color: transparent;\n",
              "    border-bottom-color: var(--fill-color);\n",
              "    animation:\n",
              "      spin 1s steps(1) infinite;\n",
              "  }\n",
              "\n",
              "  @keyframes spin {\n",
              "    0% {\n",
              "      border-color: transparent;\n",
              "      border-bottom-color: var(--fill-color);\n",
              "      border-left-color: var(--fill-color);\n",
              "    }\n",
              "    20% {\n",
              "      border-color: transparent;\n",
              "      border-left-color: var(--fill-color);\n",
              "      border-top-color: var(--fill-color);\n",
              "    }\n",
              "    30% {\n",
              "      border-color: transparent;\n",
              "      border-left-color: var(--fill-color);\n",
              "      border-top-color: var(--fill-color);\n",
              "      border-right-color: var(--fill-color);\n",
              "    }\n",
              "    40% {\n",
              "      border-color: transparent;\n",
              "      border-right-color: var(--fill-color);\n",
              "      border-top-color: var(--fill-color);\n",
              "    }\n",
              "    60% {\n",
              "      border-color: transparent;\n",
              "      border-right-color: var(--fill-color);\n",
              "    }\n",
              "    80% {\n",
              "      border-color: transparent;\n",
              "      border-right-color: var(--fill-color);\n",
              "      border-bottom-color: var(--fill-color);\n",
              "    }\n",
              "    90% {\n",
              "      border-color: transparent;\n",
              "      border-bottom-color: var(--fill-color);\n",
              "    }\n",
              "  }\n",
              "</style>\n",
              "\n",
              "  <script>\n",
              "    async function quickchart(key) {\n",
              "      const quickchartButtonEl =\n",
              "        document.querySelector('#' + key + ' button');\n",
              "      quickchartButtonEl.disabled = true;  // To prevent multiple clicks.\n",
              "      quickchartButtonEl.classList.add('colab-df-spinner');\n",
              "      try {\n",
              "        const charts = await google.colab.kernel.invokeFunction(\n",
              "            'suggestCharts', [key], {});\n",
              "      } catch (error) {\n",
              "        console.error('Error during call to suggestCharts:', error);\n",
              "      }\n",
              "      quickchartButtonEl.classList.remove('colab-df-spinner');\n",
              "      quickchartButtonEl.classList.add('colab-df-quickchart-complete');\n",
              "    }\n",
              "    (() => {\n",
              "      let quickchartButtonEl =\n",
              "        document.querySelector('#df-c728f17c-b049-4d66-86de-23e9a6ede73d button');\n",
              "      quickchartButtonEl.style.display =\n",
              "        google.colab.kernel.accessAllowed ? 'block' : 'none';\n",
              "    })();\n",
              "  </script>\n",
              "</div>\n",
              "    </div>\n",
              "  </div>\n"
            ]
          },
          "metadata": {},
          "execution_count": 233
        }
      ]
    },
    {
      "cell_type": "markdown",
      "source": [
        "**Importing nltk libraries**"
      ],
      "metadata": {
        "id": "3X-gV97DILa3"
      }
    },
    {
      "cell_type": "code",
      "source": [
        "import nltk\n",
        "nltk.download('punkt')\n",
        "nltk.download('stopwords')"
      ],
      "metadata": {
        "colab": {
          "base_uri": "https://localhost:8080/"
        },
        "id": "Wi39q5_QKbZt",
        "outputId": "f7dff56e-daa7-48c5-b010-2fa6ed87ea89"
      },
      "execution_count": 234,
      "outputs": [
        {
          "output_type": "stream",
          "name": "stderr",
          "text": [
            "[nltk_data] Downloading package punkt to /root/nltk_data...\n",
            "[nltk_data]   Package punkt is already up-to-date!\n",
            "[nltk_data] Downloading package stopwords to /root/nltk_data...\n",
            "[nltk_data]   Package stopwords is already up-to-date!\n"
          ]
        },
        {
          "output_type": "execute_result",
          "data": {
            "text/plain": [
              "True"
            ]
          },
          "metadata": {},
          "execution_count": 234
        }
      ]
    },
    {
      "cell_type": "markdown",
      "source": [
        "**Loading data from dictionary**"
      ],
      "metadata": {
        "id": "tuBlMDdJMJhj"
      }
    },
    {
      "cell_type": "code",
      "source": [
        "# Read the dictionary.txt file and create a set of valid words\n",
        "with open('dictionary.txt', 'r') as file:\n",
        "    dictionary_words = set(word.strip() for word in file)"
      ],
      "metadata": {
        "id": "WP3sa_HHj0HP"
      },
      "execution_count": 238,
      "outputs": []
    },
    {
      "cell_type": "code",
      "source": [
        "print(dictionary_words)"
      ],
      "metadata": {
        "colab": {
          "base_uri": "https://localhost:8080/"
        },
        "id": "YNsWAPrHj2k-",
        "outputId": "9aa53829-463f-43ee-e307-53ddb58646b0"
      },
      "execution_count": 239,
      "outputs": [
        {
          "output_type": "stream",
          "name": "stdout",
          "text": [
            "{'univers', 'chelsea', 'credit', 'manchest', 'polic', 'premiership', 'attract', 'specul', 'britain', 'accord', 'site', 'alway', 'stand', 'women', 'higher', 'set', 'name', 'minut', 'appl', 'sunday', 'situat', 'children', 'owner', 'second', 'west', 'write', 'thursday', 'peter', 'appeal', 'travel', 'worri', 'mini', 'figur', 'attend', 'connect', 'describ', 'reject', 'warn', 'manufactur', 'forecast', 'similar', 'blog', 'european', 'best', 'budget', 'debat', 'domin', 'potenti', 'irish', 'thing', 'cup', 'version', 'rate', 'everi', 'summer', 'creat', 'howard', 'via', 'rock', 'seat', 'charl', 'zealand', 'file', 'product', 'due', 'happen', 'spent', 'measur', 'great', 'make', 'moment', '14', 'model', 'lot', 'old', 'estim', 'phone', 'address', 'shown', 'million', 'car', 'qualiti', 'final', 'handset', 'among', 'feel', 'sharehold', 'eight', 'action', 'begin', 'target', 'complet', 'air', 'futur', 'bill', 'everyon', 'compet', 'success', 'achiev', 'given', 'drive', 'accept', 'websit', 'director', 'rais', 'singl', 'look', 'past', 'reflect', 'first', 'process', 'retail', 'view', 'deni', 'giant', 'grand', 'media', 'side', 'trust', 'propos', 'chanc', 'fraud', 'china', 'govern', 'player', '24', 'line', 'declin', 'code', 'back', 'lead', 'fall', 'everyth', 'probabl', 'sever', 'broadband', 'case', 'difficult', 'properti', 'sell', 'design', 'famili', 'avail', 'box', 'present', 'approach', 'becam', 'reach', 'coupl', 'night', 'play', 'go', 'campbel', 'man', 'victim', 'emerg', 'doubl', 'opportun', 'direct', 'electron', 'amount', 'must', 'conserv', 'featur', 'market', 'dollar', 'robinson', 'want', 'even', 'claim', 'sure', 'presid', 'left', 'richard', 'group', 'chief', 'comedi', '25', 'may', 'legal', 'promot', 'low', 'result', 'fit', 'mr', 'share', 'machin', 'told', 'content', 'chart', '10', 'custom', 'previou', 'includ', 'care', 'prove', 'secretari', 'averag', 'comput', 'judg', 'perform', 'parti', 'state', 'strong', 'top', 'wage', 'gener', 'kennedi', 'screen', 'better', 'serv', 'tsunami', 'debt', 'insist', 'understand', 'differ', 'wide', 'honour', 'bodi', 'tough', 'add', 'compar', 'investor', 'seek', 'rather', 'releas', 'slow', 'voter', 'doubt', 'high', 'race', 'right', 'law', 'men', 'parent', 'risk', 'run', 'hunt', 'base', 'radio', 'program', 'still', 'also', 'australia', 'receiv', 'unit', 'iraq', 'worker', 'current', '2002', 'reduc', 'scotland', 'pictur', 'put', 'de', 'card', 'elect', 'today', 'manag', 'comment', 'like', 'say', 'seem', 'lack', 'data', 'contest', 'sound', 'celebr', 'band', 'favourit', 'report', '2004', 'labour', 'microsoft', 'introduc', 'largest', 'met', 'predict', 'public', '2001', 'impress', 'main', 'pressur', 'thousand', 'american', 'gadget', 'gold', 'video', 'soon', 'without', 'bbc', 'defeat', 'although', 'ball', 'talk', 'fan', 'problem', 'littl', 'pledg', 'host', 'debut', 'access', 'wale', 'tv', 'announc', 'council', '30', 'court', 'leav', 'earn', 'ever', 'explain', 'happi', 'privat', 'australian', 'revenu', 'tour', 'face', 'school', 'statement', 'v', 'respond', 'answer', 'billion', 'extra', 'time', 'stop', 'davi', 'googl', 'januari', 'bit', 'expert', 'oscar', 'servic', 'scheme', 'studi', 'hear', 'wednesday', 'forc', 'store', 'camera', 'leagu', 'sector', 'would', 'home', 'meanwhil', 'confer', 'larg', 'speak', 'push', 'know', 'net', 'controversi', 'paid', 'publish', 'much', 'plan', 'trade', 'board', 'appear', 'within', 'togeth', 'approv', 'busi', 'earli', 'februari', 'growth', 'ago', 'polici', 'paul', 'deliv', 'confirm', 'cost', 'either', 'gone', 'reveal', 'seven', 'bring', 'categori', 'illeg', 'found', 'real', 'search', 'vote', 'economi', 'seri', 'return', 'requir', 'cours', 'seed', 'author', 'post', 'offer', 'citi', 'survey', 'went', 'penalti', 'fear', 'small', 'long', 'senior', 'detail', 'aid', 'hit', '12', 'period', 'offic', 'compani', 'brand', 'die', 'gordon', 'central', 'ask', 'japan', 'competit', 'eu', 'said', 'singer', 'station', 'africa', 'front', 'monday', 'led', 'discuss', 'life', 'analyst', 'miss', 'team', 'far', 'becom', 'money', 'america', 'bought', 'week', 'alleg', '15', 'jame', 'york', 'level', 'pair', 'confid', 'decis', 'feder', 'nation', 'replac', 'rugbi', 'unveil', 'thought', 'entertain', 'link', 'anoth', 'movi', 'rival', 'love', 'away', 'role', 'chang', 'depart', 'sign', 'threat', 'uk', 'commit', 'russia', 'squad', 'test', 'newspap', '100', 'investig', 'robert', 'coach', 'sale', 'stori', 'break', 'soni', 'saw', 'decid', 'annual', 'criticis', 'spokesman', 'incom', 'exampl', 'popular', 'rose', 'person', 'across', 'execut', 'watch', 'forward', '000', 'control', 'impact', 'member', 'martin', 'caus', 'made', 'album', 'athlet', 'copi', 'standard', 'internet', 'word', 'window', 'worth', 'death', 'next', 'find', 'age', 'ground', 'defenc', 'aviat', 'wrong', 'immigr', 'later', 'oil', 'mark', 'north', 'attempt', 'employ', 'ukip', 'believ', 'weekend', 'loss', 'well', 'drop', 'championship', 'associ', 'india', 'research', 'despit', '2003', 'minist', 'number', 'rest', '20', 'seen', 'show', 'howev', 'someth', 'saturday', 'digit', 'season', 'tool', 'industri', 'agre', 'young', 'rise', 'never', 'brown', 'taken', 'step', 'collect', 'crimin', 'allow', 'admit', 'nomin', 'project', 'valu', 'kick', 'came', 'promis', 'effort', 'three', 'poll', 'dr', 'studio', 'inflat', 'list', 'rang', 'job', 'fight', 'region', 'surpris', 'turn', 'tax', 'benefit', 'financi', 'star', 'area', 'known', 'suggest', 'road', 'expect', 'get', 'head', 'use', 'actor', 'devic', 'carri', 'send', 'accus', 'actress', 'pc', 'tuesday', 'almost', 'global', 'crime', 'arrest', 'human', 'visit', 'commiss', 'russian', 'whole', '2000', 'earlier', 'new', 'friday', 'titl', 'award', 'event', 'leader', 'ban', 'us', 'asylum', 'way', 'march', 'prime', 'offici', 'spam', 'suffer', 'disast', '2006', 'hollywood', 'prize', 'close', 'gave', 'drug', 'improv', 'yet', 'ensur', 'lower', 'pop', 'third', 'peopl', 'europ', 'street', '3', 'cut', 'though', 'fell', 'idea', 'increas', 'sinc', 'start', 'term', 'total', 'blair', 'democrat', 'septemb', 'indian', 'around', 'match', 'festiv', 'british', 'end', 'affect', 'origin', 'refus', 'jone', 'protect', 'sir', 'fine', 'date', 'anyth', 'tackl', 'call', 'consol', 'mean', 'pass', 'arsen', 'account', 'finish', 'move', 'tri', 'could', 'sport', 'ahead', 'quarter', 'viru', '1', 'boost', '5', 'launch', 'challeng', 'magazin', 'other', 'big', 'union', 'film', 'unlik', 'exchang', 'agenc', 'demand', 'grow', 'speech', 'think', 'intern', 'day', 'econom', 'stage', 'follow', 'whether', 'act', 'foreign', 'critic', 'month', 'song', 'download', 'chancellor', 'career', 'clark', 'form', 'help', 'lost', 'struggl', 'price', 'boss', 'develop', 'ad', 'trial', 'activ', 'winner', 'work', 'build', 'centr', 'five', 'paper', 'support', 'book', 'interest', 'common', 'disappoint', 'injuri', 'special', 'repres', 'lawyer', 'friend', 'let', 'corpor', 'hope', 'question', 'charg', 'golden', 'latest', 'invest', 'secur', 'shot', 'inform', 'olymp', 'damag', 'email', 'game', 'agreement', 'sent', 'clear', 'fund', 'consid', 'footbal', 'avoid', 'john', 'organis', 'track', 'whose', 'outsid', 'airlin', 'dvd', 'per', 'euro', 'hold', 'lib', 'april', 'champion', 'oper', 'yuko', '13', 'independ', 'news', 'deal', 'biggest', 'recent', 'michael', 'prepar', 'bank', 'speed', 'system', 'done', 'sourc', 'enough', 'attack', 'firm', 'educ', 'less', 'order', 'dem', 'pick', 'score', 'individu', 'record', 'commun', 'local', 'hand', 'deficit', 'theatr', 'hous', 'mani', 'took', 'open', 'germani', 'liverpool', 'david', 'imag', 'save', 'world', 'profit', 'network', 'aim', 'ceremoni', 'audienc', 'maker', 'hard', 'possibl', 'pay', 'remain', 'tori', 'part', 'bankruptci', 'park', 'continu', 'two', 'might', 'involv', 'one', 'former', 'ireland', 'softwar', 'pension', 'web', 'argu', 'least', 'keep', 'got', 'year', 'franc', 'televis', 'combin', 'contract', 'sold', '2', 'spend', 'take', 'point', 'refere', 'issu', 'stock', 'portabl', 'four', '16', 'alreadi', 'rule', 'felt', 'liber', 'full', 'artist', 'battl', 'meet', 'signific', 'war', 'buy', 'choic', 'experi', 'christma', 'produc', 'abil', 'exist', 'defend', 'evid', 'stay', 'german', 'french', 'listen', 'respect', 'initi', 'bush', 'financ', 'id', 'england', 'huge', 'terror', 'short', 'abl', 'messag', 'south', 'wait', 'club', 'export', 'half', 'posit', 'broadcast', 'good', 'join', 'ms', 'favour', 'june', 'user', 'william', 'light', 'provid', 'engin', 'mp', 'reason', 'place', 'free', '18', 'onlin', 'simpli', 'fourth', 'countri', 'roddick', 'see', 'bt', 'field', 'effect', 'histori', 'six', 'committe', 'scottish', 'enter', 'limit', 'lord', 'music', 'distribut', 'instead', 'octob', 'novemb', 'mike', 'programm', 'key', 'give', '50', 'come', 'consum', 'polit', 'decemb', 'fail', 'tell', 'toni', 'technolog', 'health', 'black', 'round', 'london', 'seriou', 'concern', 'held', 'bad', 'realli', 'opposit', 'chairman', 'last', '40', 'live', 'need', 'hour', 'goal', 'win', 'major', 'reform', 'mobil', 'matter', 'respons', 'itali', 'student', 'press', 'read', '2005', 'import', 'bid', 'poor', 'power', 'johnson', 'quit', '11', 'parliament', 'monitor', 'fact', 'particularli', 'campaign', 'cash', 'late', 'often', 'spain', 'beat', '4', 'row', 'train', 'lose', 'victori', 'gain', 'noth', 'channel', 'behind'}\n"
          ]
        }
      ]
    },
    {
      "cell_type": "markdown",
      "source": [
        "**Generate unigrams for each document**"
      ],
      "metadata": {
        "id": "L5R4x9glMfdt"
      }
    },
    {
      "cell_type": "code",
      "source": [
        "import string\n",
        "\n",
        "from nltk.corpus import stopwords\n",
        "from nltk.stem.porter import *\n",
        "\n",
        "\n",
        "# stemming tool from nltk\n",
        "stemmer = PorterStemmer()\n",
        "# a mapping dictionary that help remove punctuations\n",
        "remove_punctuation_map = dict((ord(char), None) for char in string.punctuation)\n",
        "def get_tokens(text):\n",
        "    # turn document into lowercase\n",
        "    lowers = text.lower()\n",
        "    # remove punctuations\n",
        "    no_punctuation = lowers.translate(remove_punctuation_map)\n",
        "    # tokenize document\n",
        "    tokens = nltk.word_tokenize(no_punctuation)\n",
        "    # remove stop words\n",
        "    filtered = [w for w in tokens if not w in stopwords.words('english')]\n",
        "    # stemming process\n",
        "    stemmed = [stemmer.stem(item) for item in filtered]\n",
        "    # Filtering unigrams based on the dictionary\n",
        "    valid_unigrams = [word for word in stemmed if word in dictionary_words]\n",
        "    return valid_unigrams"
      ],
      "metadata": {
        "id": "MvXjYIkaIPFN"
      },
      "execution_count": 241,
      "outputs": []
    },
    {
      "cell_type": "code",
      "source": [
        "# Apply the get_tokens function to every row of the 'Unigrams' column\n",
        "df['Unigrams'] = df['Text'].apply(lambda x: get_tokens(x))"
      ],
      "metadata": {
        "id": "MAvC85j6iu4-"
      },
      "execution_count": 242,
      "outputs": []
    },
    {
      "cell_type": "code",
      "source": [
        "df.head()"
      ],
      "metadata": {
        "colab": {
          "base_uri": "https://localhost:8080/",
          "height": 206
        },
        "id": "ZFP-cW9pWy4A",
        "outputId": "31f848c7-560a-4f61-8d7d-da6c1205eda6"
      },
      "execution_count": 243,
      "outputs": [
        {
          "output_type": "execute_result",
          "data": {
            "text/plain": [
              "   ArticleId                                               Text  Category  \\\n",
              "0       1429  sfa awaits report over mikoliunas the scottish...     sport   \n",
              "1       1896  parmalat to return to stockmarket parmalat  th...  business   \n",
              "2       1633  edu blasts arsenal arsenal s brazilian midfiel...     sport   \n",
              "3       2178  henman decides to quit davis cup tim henman ha...     sport   \n",
              "4        194  french suitor holds lse meeting european stock...  business   \n",
              "\n",
              "                                            Unigrams  \n",
              "0  [report, scottish, footbal, associ, refere, re...  \n",
              "1  [return, compani, went, account, hope, back, s...  \n",
              "2  [arsen, arsen, hit, club, offer, new, contract...  \n",
              "3  [decid, quit, davi, cup, great, britain, davi,...  \n",
              "4  [french, hold, meet, european, stock, market, ...  "
            ],
            "text/html": [
              "\n",
              "  <div id=\"df-952e3010-2c4e-44e4-968d-1183b66aa142\" class=\"colab-df-container\">\n",
              "    <div>\n",
              "<style scoped>\n",
              "    .dataframe tbody tr th:only-of-type {\n",
              "        vertical-align: middle;\n",
              "    }\n",
              "\n",
              "    .dataframe tbody tr th {\n",
              "        vertical-align: top;\n",
              "    }\n",
              "\n",
              "    .dataframe thead th {\n",
              "        text-align: right;\n",
              "    }\n",
              "</style>\n",
              "<table border=\"1\" class=\"dataframe\">\n",
              "  <thead>\n",
              "    <tr style=\"text-align: right;\">\n",
              "      <th></th>\n",
              "      <th>ArticleId</th>\n",
              "      <th>Text</th>\n",
              "      <th>Category</th>\n",
              "      <th>Unigrams</th>\n",
              "    </tr>\n",
              "  </thead>\n",
              "  <tbody>\n",
              "    <tr>\n",
              "      <th>0</th>\n",
              "      <td>1429</td>\n",
              "      <td>sfa awaits report over mikoliunas the scottish...</td>\n",
              "      <td>sport</td>\n",
              "      <td>[report, scottish, footbal, associ, refere, re...</td>\n",
              "    </tr>\n",
              "    <tr>\n",
              "      <th>1</th>\n",
              "      <td>1896</td>\n",
              "      <td>parmalat to return to stockmarket parmalat  th...</td>\n",
              "      <td>business</td>\n",
              "      <td>[return, compani, went, account, hope, back, s...</td>\n",
              "    </tr>\n",
              "    <tr>\n",
              "      <th>2</th>\n",
              "      <td>1633</td>\n",
              "      <td>edu blasts arsenal arsenal s brazilian midfiel...</td>\n",
              "      <td>sport</td>\n",
              "      <td>[arsen, arsen, hit, club, offer, new, contract...</td>\n",
              "    </tr>\n",
              "    <tr>\n",
              "      <th>3</th>\n",
              "      <td>2178</td>\n",
              "      <td>henman decides to quit davis cup tim henman ha...</td>\n",
              "      <td>sport</td>\n",
              "      <td>[decid, quit, davi, cup, great, britain, davi,...</td>\n",
              "    </tr>\n",
              "    <tr>\n",
              "      <th>4</th>\n",
              "      <td>194</td>\n",
              "      <td>french suitor holds lse meeting european stock...</td>\n",
              "      <td>business</td>\n",
              "      <td>[french, hold, meet, european, stock, market, ...</td>\n",
              "    </tr>\n",
              "  </tbody>\n",
              "</table>\n",
              "</div>\n",
              "    <div class=\"colab-df-buttons\">\n",
              "\n",
              "  <div class=\"colab-df-container\">\n",
              "    <button class=\"colab-df-convert\" onclick=\"convertToInteractive('df-952e3010-2c4e-44e4-968d-1183b66aa142')\"\n",
              "            title=\"Convert this dataframe to an interactive table.\"\n",
              "            style=\"display:none;\">\n",
              "\n",
              "  <svg xmlns=\"http://www.w3.org/2000/svg\" height=\"24px\" viewBox=\"0 -960 960 960\">\n",
              "    <path d=\"M120-120v-720h720v720H120Zm60-500h600v-160H180v160Zm220 220h160v-160H400v160Zm0 220h160v-160H400v160ZM180-400h160v-160H180v160Zm440 0h160v-160H620v160ZM180-180h160v-160H180v160Zm440 0h160v-160H620v160Z\"/>\n",
              "  </svg>\n",
              "    </button>\n",
              "\n",
              "  <style>\n",
              "    .colab-df-container {\n",
              "      display:flex;\n",
              "      gap: 12px;\n",
              "    }\n",
              "\n",
              "    .colab-df-convert {\n",
              "      background-color: #E8F0FE;\n",
              "      border: none;\n",
              "      border-radius: 50%;\n",
              "      cursor: pointer;\n",
              "      display: none;\n",
              "      fill: #1967D2;\n",
              "      height: 32px;\n",
              "      padding: 0 0 0 0;\n",
              "      width: 32px;\n",
              "    }\n",
              "\n",
              "    .colab-df-convert:hover {\n",
              "      background-color: #E2EBFA;\n",
              "      box-shadow: 0px 1px 2px rgba(60, 64, 67, 0.3), 0px 1px 3px 1px rgba(60, 64, 67, 0.15);\n",
              "      fill: #174EA6;\n",
              "    }\n",
              "\n",
              "    .colab-df-buttons div {\n",
              "      margin-bottom: 4px;\n",
              "    }\n",
              "\n",
              "    [theme=dark] .colab-df-convert {\n",
              "      background-color: #3B4455;\n",
              "      fill: #D2E3FC;\n",
              "    }\n",
              "\n",
              "    [theme=dark] .colab-df-convert:hover {\n",
              "      background-color: #434B5C;\n",
              "      box-shadow: 0px 1px 3px 1px rgba(0, 0, 0, 0.15);\n",
              "      filter: drop-shadow(0px 1px 2px rgba(0, 0, 0, 0.3));\n",
              "      fill: #FFFFFF;\n",
              "    }\n",
              "  </style>\n",
              "\n",
              "    <script>\n",
              "      const buttonEl =\n",
              "        document.querySelector('#df-952e3010-2c4e-44e4-968d-1183b66aa142 button.colab-df-convert');\n",
              "      buttonEl.style.display =\n",
              "        google.colab.kernel.accessAllowed ? 'block' : 'none';\n",
              "\n",
              "      async function convertToInteractive(key) {\n",
              "        const element = document.querySelector('#df-952e3010-2c4e-44e4-968d-1183b66aa142');\n",
              "        const dataTable =\n",
              "          await google.colab.kernel.invokeFunction('convertToInteractive',\n",
              "                                                    [key], {});\n",
              "        if (!dataTable) return;\n",
              "\n",
              "        const docLinkHtml = 'Like what you see? Visit the ' +\n",
              "          '<a target=\"_blank\" href=https://colab.research.google.com/notebooks/data_table.ipynb>data table notebook</a>'\n",
              "          + ' to learn more about interactive tables.';\n",
              "        element.innerHTML = '';\n",
              "        dataTable['output_type'] = 'display_data';\n",
              "        await google.colab.output.renderOutput(dataTable, element);\n",
              "        const docLink = document.createElement('div');\n",
              "        docLink.innerHTML = docLinkHtml;\n",
              "        element.appendChild(docLink);\n",
              "      }\n",
              "    </script>\n",
              "  </div>\n",
              "\n",
              "\n",
              "<div id=\"df-30bd4105-5bd8-41db-9f00-7b03f51ec0f3\">\n",
              "  <button class=\"colab-df-quickchart\" onclick=\"quickchart('df-30bd4105-5bd8-41db-9f00-7b03f51ec0f3')\"\n",
              "            title=\"Suggest charts\"\n",
              "            style=\"display:none;\">\n",
              "\n",
              "<svg xmlns=\"http://www.w3.org/2000/svg\" height=\"24px\"viewBox=\"0 0 24 24\"\n",
              "     width=\"24px\">\n",
              "    <g>\n",
              "        <path d=\"M19 3H5c-1.1 0-2 .9-2 2v14c0 1.1.9 2 2 2h14c1.1 0 2-.9 2-2V5c0-1.1-.9-2-2-2zM9 17H7v-7h2v7zm4 0h-2V7h2v10zm4 0h-2v-4h2v4z\"/>\n",
              "    </g>\n",
              "</svg>\n",
              "  </button>\n",
              "\n",
              "<style>\n",
              "  .colab-df-quickchart {\n",
              "      --bg-color: #E8F0FE;\n",
              "      --fill-color: #1967D2;\n",
              "      --hover-bg-color: #E2EBFA;\n",
              "      --hover-fill-color: #174EA6;\n",
              "      --disabled-fill-color: #AAA;\n",
              "      --disabled-bg-color: #DDD;\n",
              "  }\n",
              "\n",
              "  [theme=dark] .colab-df-quickchart {\n",
              "      --bg-color: #3B4455;\n",
              "      --fill-color: #D2E3FC;\n",
              "      --hover-bg-color: #434B5C;\n",
              "      --hover-fill-color: #FFFFFF;\n",
              "      --disabled-bg-color: #3B4455;\n",
              "      --disabled-fill-color: #666;\n",
              "  }\n",
              "\n",
              "  .colab-df-quickchart {\n",
              "    background-color: var(--bg-color);\n",
              "    border: none;\n",
              "    border-radius: 50%;\n",
              "    cursor: pointer;\n",
              "    display: none;\n",
              "    fill: var(--fill-color);\n",
              "    height: 32px;\n",
              "    padding: 0;\n",
              "    width: 32px;\n",
              "  }\n",
              "\n",
              "  .colab-df-quickchart:hover {\n",
              "    background-color: var(--hover-bg-color);\n",
              "    box-shadow: 0 1px 2px rgba(60, 64, 67, 0.3), 0 1px 3px 1px rgba(60, 64, 67, 0.15);\n",
              "    fill: var(--button-hover-fill-color);\n",
              "  }\n",
              "\n",
              "  .colab-df-quickchart-complete:disabled,\n",
              "  .colab-df-quickchart-complete:disabled:hover {\n",
              "    background-color: var(--disabled-bg-color);\n",
              "    fill: var(--disabled-fill-color);\n",
              "    box-shadow: none;\n",
              "  }\n",
              "\n",
              "  .colab-df-spinner {\n",
              "    border: 2px solid var(--fill-color);\n",
              "    border-color: transparent;\n",
              "    border-bottom-color: var(--fill-color);\n",
              "    animation:\n",
              "      spin 1s steps(1) infinite;\n",
              "  }\n",
              "\n",
              "  @keyframes spin {\n",
              "    0% {\n",
              "      border-color: transparent;\n",
              "      border-bottom-color: var(--fill-color);\n",
              "      border-left-color: var(--fill-color);\n",
              "    }\n",
              "    20% {\n",
              "      border-color: transparent;\n",
              "      border-left-color: var(--fill-color);\n",
              "      border-top-color: var(--fill-color);\n",
              "    }\n",
              "    30% {\n",
              "      border-color: transparent;\n",
              "      border-left-color: var(--fill-color);\n",
              "      border-top-color: var(--fill-color);\n",
              "      border-right-color: var(--fill-color);\n",
              "    }\n",
              "    40% {\n",
              "      border-color: transparent;\n",
              "      border-right-color: var(--fill-color);\n",
              "      border-top-color: var(--fill-color);\n",
              "    }\n",
              "    60% {\n",
              "      border-color: transparent;\n",
              "      border-right-color: var(--fill-color);\n",
              "    }\n",
              "    80% {\n",
              "      border-color: transparent;\n",
              "      border-right-color: var(--fill-color);\n",
              "      border-bottom-color: var(--fill-color);\n",
              "    }\n",
              "    90% {\n",
              "      border-color: transparent;\n",
              "      border-bottom-color: var(--fill-color);\n",
              "    }\n",
              "  }\n",
              "</style>\n",
              "\n",
              "  <script>\n",
              "    async function quickchart(key) {\n",
              "      const quickchartButtonEl =\n",
              "        document.querySelector('#' + key + ' button');\n",
              "      quickchartButtonEl.disabled = true;  // To prevent multiple clicks.\n",
              "      quickchartButtonEl.classList.add('colab-df-spinner');\n",
              "      try {\n",
              "        const charts = await google.colab.kernel.invokeFunction(\n",
              "            'suggestCharts', [key], {});\n",
              "      } catch (error) {\n",
              "        console.error('Error during call to suggestCharts:', error);\n",
              "      }\n",
              "      quickchartButtonEl.classList.remove('colab-df-spinner');\n",
              "      quickchartButtonEl.classList.add('colab-df-quickchart-complete');\n",
              "    }\n",
              "    (() => {\n",
              "      let quickchartButtonEl =\n",
              "        document.querySelector('#df-30bd4105-5bd8-41db-9f00-7b03f51ec0f3 button');\n",
              "      quickchartButtonEl.style.display =\n",
              "        google.colab.kernel.accessAllowed ? 'block' : 'none';\n",
              "    })();\n",
              "  </script>\n",
              "</div>\n",
              "    </div>\n",
              "  </div>\n"
            ]
          },
          "metadata": {},
          "execution_count": 243
        }
      ]
    },
    {
      "cell_type": "markdown",
      "source": [
        "**Visualising Results**"
      ],
      "metadata": {
        "id": "Xge8I6X4I-UR"
      }
    },
    {
      "cell_type": "code",
      "source": [
        "# Assuming 'df' is your DataFrame\n",
        "unigrams_value = df.loc[4, 'Unigrams']\n",
        "\n",
        "# Print or work with the accessed value\n",
        "print(unigrams_value)"
      ],
      "metadata": {
        "colab": {
          "base_uri": "https://localhost:8080/"
        },
        "id": "kHvU2gc1f5pY",
        "outputId": "505f7f10-cc1a-40bd-de5d-b8bb07d3c550"
      },
      "execution_count": 244,
      "outputs": [
        {
          "output_type": "stream",
          "name": "stdout",
          "text": [
            "['french', 'hold', 'meet', 'european', 'stock', 'market', 'met', 'london', 'stock', 'exchang', 'specul', 'may', 'launch', 'cash', 'bid', 'chief', 'held', 'talk', 'boss', 'day', 'rival', 'put', 'forward', 'bid', 'case', 'german', 'exchang', 'said', 'held', 'talk', 'declin', 'comment', 'talk', 'end', 'friday', 'specul', 'german', 'may', 'rais', 'bid', 'offer', 'reject', 'place', 'fund', 'cash', 'bid', 'far', 'howev', 'bid', 'deal', 'either', 'would', 'creat', 'biggest', 'stock', 'market', 'oper', 'europ', 'second', 'biggest', 'world', 'new', 'york', 'stock', 'exchang', 'specul', 'would', 'use', 'friday', 'meet', 'opportun', 'take', 'grow', 'plan', 'domin', 'london', 'market', 'union', 'fear', 'job', 'would', 'move', 'london', 'success', 'work', 'council', 'concern', 'trade', 'could', 'manag', 'london', 'futur', 'news', 'agenc', 'report', 'union', 'sourc', 'say', 'german', 'also', 'said', 'market', 'oper', 'promis', 'move', 'london', 'bid', 'success', 'meanwhil', 'sharehold', 'fear', 'control', 'unit', 'clear', 'hous', 'process', 'secur', 'would', 'creat', 'situat', 'would', 'posit', 'sharehold', 'lower', 'share', 'deal', 'control', 'clear', 'oper', 'situat', 'critic', 'say', 'competit', 'german', 'group', 'seen', 'main', 'comment', 'believ', 'ask', 'german', 'author', 'approv', 'plan', 'buy', 'may', 'offer', 'sell', 'gain', 'sharehold', 'approv', 'far', 'given', 'littl', 'away', 'offer', 'europ', 'biggest', 'market', 'deal']\n"
          ]
        }
      ]
    },
    {
      "cell_type": "code",
      "source": [
        "# Assuming 'df' is your DataFrame\n",
        "unigrams_value = df.loc[4, 'Text']\n",
        "\n",
        "# Print or work with the accessed value\n",
        "print(unigrams_value)"
      ],
      "metadata": {
        "colab": {
          "base_uri": "https://localhost:8080/"
        },
        "id": "bv0fa5U8hylv",
        "outputId": "ef923a1f-5cec-4c5f-f20d-dd30d1fed940"
      },
      "execution_count": 245,
      "outputs": [
        {
          "output_type": "stream",
          "name": "stdout",
          "text": [
            "french suitor holds lse meeting european stock market euronext has met with the london stock exchange (lse) amid speculation that it may be ready to launch a cash bid.  euronext chief jean-francois theodore held talks with lse boss clara furse the day after rival deutsche boerse put forward its own bid case. the german exchange said it had held  constructive  professional and friendly  talks with the lse. but euronext declined to comment after the talks ended on friday. speculation is mounting that the germans may raise their bid to £1.5bn. deutsche boerse previously offered £1.3bn  which was rejected by the lse  while euronext is rumoured to have facilities in place to fund a £1.4bn cash bid. so far  however  neither have tabled a formal bid. but a deal with either bidder would create the biggest stock market operator in europe and the second biggest in the world after the new york stock exchange.  there was speculation euronext would use friday s meeting as an opportunity to take advantage of growing disquiet over deutsche boerse s own plans for dominance over the london market. unions for deutsche boerse staff in frankfurt has reportedly expressed fears that up to 300 jobs would be moved to london if the takeover is successful.  the works council has expressed concerns that the equities and derivatives trade could be managed from london in the future   reuters news agency reports a union source as saying. german politicians are also said to be angry over the market operator s promise to move its headquarters to london if a bid were successful.  meanwhile  lse shareholders fear that deutsche boerse s control over its clearstream unit - the clearing house that processes securities transactions - would create a monopoly situation. this would weaken the position of shareholders when negotiating lower transaction fees for share dealings. lse and euronext do not have control over their clearing and settlement operations  a situation which critics say is more transparent and competitive. the german group s ownership of clearstream has been seen as the main stumbling block to a london-frankfurt merger. commentators believe deutsche boerse  which has now formally asked german authorities to approve its plan to buy the lse  may offer to sell clearstream to gain shareholder approval. euronext  so far  has given little away as to what sweeteners it will offer the lse - europe s biggest equity market - into a deal.\n"
          ]
        }
      ]
    },
    {
      "cell_type": "code",
      "source": [
        "# Assuming 'df' is your DataFrame\n",
        "unigrams_value = df.loc[4, 'Unigrams']\n",
        "\n",
        "# Print or work with the accessed value\n",
        "print(unigrams_value)"
      ],
      "metadata": {
        "colab": {
          "base_uri": "https://localhost:8080/"
        },
        "id": "l6tDOlyHhyuO",
        "outputId": "8c80c4c0-1011-42ae-cb2a-d0e1d22aa92c"
      },
      "execution_count": 246,
      "outputs": [
        {
          "output_type": "stream",
          "name": "stdout",
          "text": [
            "['french', 'hold', 'meet', 'european', 'stock', 'market', 'met', 'london', 'stock', 'exchang', 'specul', 'may', 'launch', 'cash', 'bid', 'chief', 'held', 'talk', 'boss', 'day', 'rival', 'put', 'forward', 'bid', 'case', 'german', 'exchang', 'said', 'held', 'talk', 'declin', 'comment', 'talk', 'end', 'friday', 'specul', 'german', 'may', 'rais', 'bid', 'offer', 'reject', 'place', 'fund', 'cash', 'bid', 'far', 'howev', 'bid', 'deal', 'either', 'would', 'creat', 'biggest', 'stock', 'market', 'oper', 'europ', 'second', 'biggest', 'world', 'new', 'york', 'stock', 'exchang', 'specul', 'would', 'use', 'friday', 'meet', 'opportun', 'take', 'grow', 'plan', 'domin', 'london', 'market', 'union', 'fear', 'job', 'would', 'move', 'london', 'success', 'work', 'council', 'concern', 'trade', 'could', 'manag', 'london', 'futur', 'news', 'agenc', 'report', 'union', 'sourc', 'say', 'german', 'also', 'said', 'market', 'oper', 'promis', 'move', 'london', 'bid', 'success', 'meanwhil', 'sharehold', 'fear', 'control', 'unit', 'clear', 'hous', 'process', 'secur', 'would', 'creat', 'situat', 'would', 'posit', 'sharehold', 'lower', 'share', 'deal', 'control', 'clear', 'oper', 'situat', 'critic', 'say', 'competit', 'german', 'group', 'seen', 'main', 'comment', 'believ', 'ask', 'german', 'author', 'approv', 'plan', 'buy', 'may', 'offer', 'sell', 'gain', 'sharehold', 'approv', 'far', 'given', 'littl', 'away', 'offer', 'europ', 'biggest', 'market', 'deal']\n"
          ]
        }
      ]
    },
    {
      "cell_type": "markdown",
      "source": [
        "**Calculating TFIDF**"
      ],
      "metadata": {
        "id": "KiJJuBQOJhs2"
      }
    },
    {
      "cell_type": "code",
      "source": [
        "def calculating_idf_per_words(df, words):\n",
        "    ##Mapping of word with IDF scores.\n",
        "    idf = {}\n",
        "\n",
        "    ##Freq of each word by document.\n",
        "    for word in words:\n",
        "        idf[word] = 0\n",
        "        for unigrams in df['Unigrams']:\n",
        "            if word in unigrams:\n",
        "                idf[word]+=1\n",
        "            else:\n",
        "                continue\n",
        "\n",
        "    ### Converting freq to idf.\n",
        "    for word in idf.keys():\n",
        "        try:\n",
        "            idf[word] = np.log(df.shape[0]/idf[word])\n",
        "        except:\n",
        "            print(word)\n",
        "\n",
        "    return idf\n",
        "\n",
        "word_idf = calculating_idf_per_words(df, dictionary_words)\n",
        "# word_idf"
      ],
      "metadata": {
        "id": "ZXYYUPzN9sUh"
      },
      "execution_count": 250,
      "outputs": []
    },
    {
      "cell_type": "code",
      "source": [
        "def calculate_word_freq(unigrams):\n",
        "    ##Mapping of each unique term with\n",
        "    tf = {}\n",
        "    unique_words = list(set(unigrams))\n",
        "    for word in unique_words:\n",
        "        tf[word] = unigrams.count(word)\n",
        "\n",
        "    maxvalue = max(tf.values())\n",
        "    for k in tf.keys():\n",
        "        tf[k] /= maxvalue\n",
        "\n",
        "    return tf"
      ],
      "metadata": {
        "id": "psVTcXWv_iaX"
      },
      "execution_count": 251,
      "outputs": []
    },
    {
      "cell_type": "code",
      "source": [
        "### Adding tf column to df\n",
        "df['tf'] = df.Unigrams.apply(calculate_word_freq)"
      ],
      "metadata": {
        "id": "WrwVknnj_jbc"
      },
      "execution_count": 252,
      "outputs": []
    },
    {
      "cell_type": "code",
      "source": [
        "### Creating a matrix of tfidf scores\n",
        "def calculate_tfidf():\n",
        "    tfidf_scores = np.zeros((1000,1000))\n",
        "    for j, word in enumerate(dictionary_words):\n",
        "        for i, tf_dict in enumerate(df['tf']):\n",
        "                tfidf_scores[i][j] = tf_dict.get(word, 0)*word_idf.get(word, 0)\n",
        "\n",
        "    return tfidf_scores\n",
        "\n",
        "tfidf = calculate_tfidf()"
      ],
      "metadata": {
        "id": "UjIcTWRd_lut"
      },
      "execution_count": 256,
      "outputs": []
    },
    {
      "cell_type": "code",
      "source": [
        "### Save Tfidf scores in txt file\n",
        "np.savetxt(\"matrix.txt\", tfidf, delimiter=\",\")"
      ],
      "metadata": {
        "id": "AdqENLPg_opT"
      },
      "execution_count": 257,
      "outputs": []
    },
    {
      "cell_type": "markdown",
      "source": [
        "**Calculate for each category top 3 most frequest terms and top 3 highest tfidf scores**"
      ],
      "metadata": {
        "id": "gpsa80AhKUTJ"
      }
    },
    {
      "cell_type": "code",
      "source": [
        "def get_term_freq(unigrams):\n",
        "    ##calculating term freq\n",
        "    tf = {}\n",
        "    unique_words = list(set(unigrams))\n",
        "    for word in unique_words:\n",
        "        tf[word] = unigrams.count(word)\n",
        "    return tf\n",
        "df['term_freq'] = df.Unigrams.apply(get_term_freq)\n",
        "\n",
        "def get_top_frequest_words():\n",
        "\n",
        "    freq_terms = {key:{} for key in df.Category.unique()}\n",
        "\n",
        "    for key in freq_terms: #For each category\n",
        "\n",
        "        merged_term_freq = {}\n",
        "        df_key = df[df.Category == key] #Fetching records of that category.\n",
        "\n",
        "        for term_freq in df_key['term_freq']: #term freq of unigrams in the record category\n",
        "            for word, freq in term_freq.items():\n",
        "                if word in merged_term_freq:\n",
        "                    merged_term_freq[word]+=freq\n",
        "                else:\n",
        "                    merged_term_freq[word] = freq\n",
        "\n",
        "        top_3_freq = sorted(list(merged_term_freq.items()), key=lambda x: x[1], reverse=True)[:3]\n",
        "        freq_terms[key] = dict(top_3_freq)\n",
        "    return freq_terms\n",
        "\n",
        "top_freq_by_category = get_top_frequest_words()"
      ],
      "metadata": {
        "id": "zln0oWoc_qGT"
      },
      "execution_count": 258,
      "outputs": []
    },
    {
      "cell_type": "code",
      "source": [
        "import json\n",
        "with open('frequency.json', 'w') as json_file:\n",
        "    json.dump(top_freq_by_category, json_file)"
      ],
      "metadata": {
        "id": "25Ct16pX_uBD"
      },
      "execution_count": 259,
      "outputs": []
    },
    {
      "cell_type": "markdown",
      "source": [
        "**Calculating Avg TFIDF**"
      ],
      "metadata": {
        "id": "Jq9L4flfKwbj"
      }
    },
    {
      "cell_type": "code",
      "source": [
        "def get_top_avg_tfidf():\n",
        "\n",
        "    avg_tfidf = {k:{} for k in df.Category.unique()}\n",
        "    for category in df.Category.unique():\n",
        "        rows = df[df.Category == category].index\n",
        "        avg = np.mean(tfidf[rows], axis = 0)\n",
        "        word_score_mapping = [(word, avg[i]) for i, word in enumerate(dictionary_words)]\n",
        "        avg_tfidf[category] = dict(sorted(word_score_mapping, key=lambda x: x[1], reverse=True)[:3])\n",
        "\n",
        "    return avg_tfidf\n",
        "\n",
        "\n",
        "top_avg_tfidf = get_top_avg_tfidf()"
      ],
      "metadata": {
        "id": "ntKEG3rS_vfn"
      },
      "execution_count": 263,
      "outputs": []
    },
    {
      "cell_type": "code",
      "source": [
        "with open('scores.json', 'w') as json_file:\n",
        "    json.dump(top_avg_tfidf, json_file)"
      ],
      "metadata": {
        "id": "4Z-8Yg9A_0Mp"
      },
      "execution_count": 264,
      "outputs": []
    }
  ]
}